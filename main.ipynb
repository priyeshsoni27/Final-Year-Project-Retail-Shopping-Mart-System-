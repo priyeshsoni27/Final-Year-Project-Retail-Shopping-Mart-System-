{
 "cells": [
  {
   "cell_type": "code",
   "execution_count": null,
   "metadata": {},
   "outputs": [],
   "source": [
    "__author__ = \"macaw\"\n",
    "import os\n",
    "from tkinter import *\n",
    "from tkinter import messagebox\n",
    "\n",
    "main = Tk()\n",
    "main.geometry(\"1366x768\")\n",
    "main.title(\"Big Bazaar\")\n",
    "main.resizable(0, 0)\n",
    "def Exit():\n",
    "    sure = messagebox.askyesno(\"Exit\",\"Are you sure you want to exit?\", parent=main)\n",
    "    if sure == True:\n",
    "        main.destroy()\n",
    "        \n",
    "main.protocol(\"WM_DELETE_WINDOW\", Exit)\n",
    "\n",
    "def emp():\n",
    "    main.withdraw()\n",
    "    os.system(\"python employee.py\")\n",
    "    main.deiconify()\n",
    "\n",
    "\n",
    "def adm():\n",
    "    main.withdraw()\n",
    "    os.system(\"python admin.py\")\n",
    "    main.deiconify()\n",
    "\n",
    "label1 = Label(main)\n",
    "label1.place(relx=0, rely=0, width=1366, height=768)\n",
    "img = PhotoImage(file=\"./images/main.png\")\n",
    "label1.configure(image=img)\n",
    "\n",
    "button1 = Button(main)\n",
    "button1.place(relx=0.316, rely=0.446, width=146, height=90)\n",
    "button1.configure(relief=\"flat\")\n",
    "button1.configure(overrelief=\"flat\")\n",
    "button1.configure(activebackground=\"#ffffff\")\n",
    "button1.configure(cursor=\"hand2\")\n",
    "button1.configure(foreground=\"#ffffff\")\n",
    "button1.configure(background=\"#ffffff\")\n",
    "button1.configure(borderwidth=\"0\")\n",
    "img2 = PhotoImage(file=\"./images/1.png\")\n",
    "button1.configure(image=img2)\n",
    "button1.configure(command=emp)\n",
    "\n",
    "button2 = Button(main)\n",
    "button2.place(relx=0.566, rely=0.448, width=146, height=90)\n",
    "button2.configure(relief=\"flat\")\n",
    "button2.configure(overrelief=\"flat\")\n",
    "button2.configure(activebackground=\"#ffffff\")\n",
    "button2.configure(cursor=\"hand2\")\n",
    "button2.configure(foreground=\"#ffffff\")\n",
    "button2.configure(background=\"#ffffff\")\n",
    "button2.configure(borderwidth=\"0\")\n",
    "img3 = PhotoImage(file=\"./images/2.png\")\n",
    "button2.configure(image=img3)\n",
    "button2.configure(command=adm)\n",
    "\n",
    "main.mainloop()\n"
   ]
  },
  {
   "cell_type": "code",
   "execution_count": null,
   "metadata": {},
   "outputs": [],
   "source": []
  },
  {
   "cell_type": "code",
   "execution_count": null,
   "metadata": {},
   "outputs": [],
   "source": []
  }
 ],
 "metadata": {
  "kernelspec": {
   "display_name": "Python 3",
   "language": "python",
   "name": "python3"
  },
  "language_info": {
   "codemirror_mode": {
    "name": "ipython",
    "version": 3
   },
   "file_extension": ".py",
   "mimetype": "text/x-python",
   "name": "python",
   "nbconvert_exporter": "python",
   "pygments_lexer": "ipython3",
   "version": "3.7.7"
  }
 },
 "nbformat": 4,
 "nbformat_minor": 4
}
